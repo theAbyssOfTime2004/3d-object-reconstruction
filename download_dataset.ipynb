{
 "cells": [
  {
   "cell_type": "code",
   "execution_count": 4,
   "id": "c08f40a3",
   "metadata": {},
   "outputs": [
    {
     "data": {
      "application/vnd.jupyter.widget-view+json": {
       "model_id": "817e6e3fc4ce4e4a98011e8872415a90",
       "version_major": 2,
       "version_minor": 0
      },
      "text/plain": [
       "VBox(children=(HTML(value='<center> <img\\nsrc=https://huggingface.co/front/assets/huggingface_logo-noborder.sv…"
      ]
     },
     "metadata": {},
     "output_type": "display_data"
    }
   ],
   "source": [
    "import os\n",
    "from dotenv import load_dotenv\n",
    "from huggingface_hub import login\n",
    "\n",
    "load_dotenv()\n",
    "hf_token = os.environ.get(\"HF_TOKEN\")\n",
    "login(hf_token)"
   ]
  },
  {
   "cell_type": "code",
   "execution_count": 7,
   "id": "5242a44e",
   "metadata": {},
   "outputs": [
    {
     "name": "stderr",
     "output_type": "stream",
     "text": [
      "/home/maidang/Repos/3drecon/.venv/lib/python3.12/site-packages/huggingface_hub/file_download.py:980: UserWarning: `local_dir_use_symlinks` parameter is deprecated and will be ignored. The process to download files to a local folder has been updated and do not rely on symlinks anymore. You only need to pass a destination folder as`local_dir`.\n",
      "For more details, check out https://huggingface.co/docs/huggingface_hub/main/en/guides/download#download-files-to-local-folder.\n",
      "  warnings.warn(\n"
     ]
    },
    {
     "name": "stdout",
     "output_type": "stream",
     "text": [
      "Downloaded file path: shapenetcore/03001627.zip\n"
     ]
    }
   ],
   "source": [
    "from huggingface_hub import hf_hub_download\n",
    "\n",
    "\n",
    "file_path = hf_hub_download(\n",
    "    repo_id=\"ShapeNet/ShapeNetCore\",\n",
    "    filename=\"03001627.zip\",\n",
    "    repo_type=\"dataset\",\n",
    "    local_dir=\"./shapenetcore\",\n",
    "    local_dir_use_symlinks=False  # Để giải nén dễ hơn sau đó\n",
    ")\n",
    "\n",
    "print(\"Downloaded file path:\", file_path)"
   ]
  },
  {
   "cell_type": "code",
   "execution_count": 9,
   "id": "fcbd619d",
   "metadata": {},
   "outputs": [],
   "source": [
    "import zipfile\n",
    "\n",
    "with zipfile.ZipFile(file_path, 'r') as zip_ref:\n",
    "    zip_ref.extractall('./shapenetcore/03001627')"
   ]
  },
  {
   "cell_type": "code",
   "execution_count": 12,
   "id": "af671822",
   "metadata": {},
   "outputs": [
    {
     "name": "stderr",
     "output_type": "stream",
     "text": [
      "[nltk_data] Downloading package wordnet to /home/maidang/nltk_data...\n"
     ]
    },
    {
     "data": {
      "text/plain": [
       "True"
      ]
     },
     "execution_count": 12,
     "metadata": {},
     "output_type": "execute_result"
    }
   ],
   "source": [
    "import nltk\n",
    "nltk.download('wordnet')"
   ]
  },
  {
   "cell_type": "code",
   "execution_count": 13,
   "id": "2d8c1da1",
   "metadata": {},
   "outputs": [
    {
     "name": "stdout",
     "output_type": "stream",
     "text": [
      "Synset: chair.n.01, Offset: 03001627\n",
      "Synset: professorship.n.01, Offset: 00598056\n",
      "Synset: president.n.04, Offset: 10468962\n",
      "Synset: electric_chair.n.01, Offset: 03271030\n",
      "Synset: chair.n.05, Offset: 03002096\n"
     ]
    }
   ],
   "source": [
    "from nltk.corpus import wordnet as wn\n",
    "\n",
    "# Lấy danh sách các synset cho từ 'chair'\n",
    "synsets = wn.synsets('chair', pos=wn.NOUN)\n",
    "\n",
    "# Hiển thị synset offset cho từng synset\n",
    "for syn in synsets:\n",
    "    print(f\"Synset: {syn.name()}, Offset: {syn.offset():08d}\")"
   ]
  },
  {
   "cell_type": "code",
   "execution_count": null,
   "id": "badcd541",
   "metadata": {},
   "outputs": [],
   "source": []
  },
  {
   "cell_type": "code",
   "execution_count": null,
   "id": "bfe07092",
   "metadata": {},
   "outputs": [],
   "source": []
  }
 ],
 "metadata": {
  "kernelspec": {
   "display_name": ".venv",
   "language": "python",
   "name": "python3"
  },
  "language_info": {
   "codemirror_mode": {
    "name": "ipython",
    "version": 3
   },
   "file_extension": ".py",
   "mimetype": "text/x-python",
   "name": "python",
   "nbconvert_exporter": "python",
   "pygments_lexer": "ipython3",
   "version": "3.12.3"
  }
 },
 "nbformat": 4,
 "nbformat_minor": 5
}
